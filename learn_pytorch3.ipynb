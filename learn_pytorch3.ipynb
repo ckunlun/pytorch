{
 "cells": [
  {
   "cell_type": "code",
   "execution_count": 1,
   "metadata": {},
   "outputs": [],
   "source": [
    "from __future__ import print_function\n",
    "import torch\n",
    "import numpy as np"
   ]
  },
  {
   "cell_type": "code",
   "execution_count": 2,
   "metadata": {},
   "outputs": [],
   "source": [
    "# 可以使用torch.nn 包来构建神经网络.\n",
    "# 你已知道autograd 包, nn 包依赖autograd 包来定义模型并求导.一个nn.Module 包含各个层和\n",
    "# 一个forward(input) 方法,该方法返回output"
   ]
  },
  {
   "cell_type": "code",
   "execution_count": 6,
   "metadata": {
    "tags": []
   },
   "outputs": [
    {
     "output_type": "stream",
     "name": "stdout",
     "text": "Net(\n  (conv1): Conv2d(1, 6, kernel_size=(5, 5), stride=(1, 1))\n  (conv2): Conv2d(6, 16, kernel_size=(5, 5), stride=(1, 1))\n  (fc1): Linear(in_features=400, out_features=120, bias=True)\n  (fc2): Linear(in_features=120, out_features=84, bias=True)\n  (fc3): Linear(in_features=84, out_features=10, bias=True)\n)\n"
    }
   ],
   "source": [
    "# 定义网络\n",
    "import torch.nn as nn\n",
    "import torch.nn.functional as F\n",
    "\n",
    "class Net(nn.Module):\n",
    "    \n",
    "    def __init__(self):\n",
    "        super(Net, self).__init__()\n",
    "        # 1 input image channel, 6 output channels, 5*5 square convolutions\n",
    "\n",
    "        # kernel\n",
    "        self.conv1 = nn.Conv2d(1, 6, 5)\n",
    "        self.conv2 = nn.Conv2d(6, 16, 5)\n",
    "        # an offine operation: y = Wx + b\n",
    "        self.fc1 = nn.Linear(16 * 5 * 5, 120)\n",
    "        self.fc2 = nn.Linear(120, 84)\n",
    "        self.fc3 = nn.Linear(84, 10)\n",
    "\n",
    "    def forward(self, x):\n",
    "\n",
    "        # Max Pooling over a (2, 2) window\n",
    "        x = F.max_pool2d(F.relu(self.conv1(x)), (2, 2))\n",
    "        # If the size is a square you can only specify a single number\n",
    "        x = F.max_pool2d(F.relu(self.conv2(x)), 2)\n",
    "        x = x.view(-1, self.num_flat_features(x))\n",
    "        x = F.relu(self.fc1(x))\n",
    "        x = F.relu(self.fc2(x))\n",
    "        x = self.fc3(x)\n",
    "\n",
    "        return x\n",
    "\n",
    "    def num_flat_features(self, x):\n",
    "        size = x.size()[1:] # all dimensions except the batch dimension\n",
    "        num_features = 1\n",
    "        for s in size:\n",
    "            num_features *= s\n",
    "        return num_features\n",
    "\n",
    "net = Net()\n",
    "print(net)\n"
   ]
  },
  {
   "cell_type": "code",
   "execution_count": 7,
   "metadata": {
    "tags": []
   },
   "outputs": [
    {
     "output_type": "stream",
     "name": "stdout",
     "text": "10\ntorch.Size([6, 1, 5, 5])\n"
    }
   ],
   "source": [
    "# 你只需定义forward 函数, backward 函数(计算梯度)在使用autograd 时自动为你创建.你可以\n",
    "# 在forward 函数中使用Tensor 的任何操作。\n",
    "# net.parameters() 返回模型需要学习的参数。\n",
    "params = list(net.parameters())\n",
    "print(len(params))\n",
    "print(params[0].size())"
   ]
  },
  {
   "cell_type": "code",
   "execution_count": 12,
   "metadata": {
    "tags": []
   },
   "outputs": [
    {
     "output_type": "stream",
     "name": "stdout",
     "text": "tensor([[ 0.1459,  0.0626, -0.0970, -0.1241,  0.1518,  0.0531,  0.0645, -0.0942,\n          0.0983,  0.0204]], grad_fn=<AddmmBackward>)\n"
    }
   ],
   "source": [
    "# forward 的输入和输出都是autograd.Variable .注意:这个网络(LeNet)期望的输入大小是\n",
    "# 32*32.如果使用MNIST数据集来训练这个网络,请把图片大小重新调整到32*32.\n",
    "# 通过网络中层输入维度的大小可以限制整个网络输入图像的大小\n",
    "input = torch.randn(1, 1, 32, 32)\n",
    "out = net(input)\n",
    "print(out)"
   ]
  },
  {
   "cell_type": "code",
   "execution_count": 13,
   "metadata": {},
   "outputs": [],
   "source": [
    "# 将所有参数的梯度缓存清零，然后进行随机梯度的反向传播\n",
    "net.zero_grad()\n",
    "out.backward(torch.randn(1, 10))"
   ]
  },
  {
   "cell_type": "code",
   "execution_count": 14,
   "metadata": {},
   "outputs": [],
   "source": [
    "# 注意:\n",
    "# torch.nn 只支持小批量输入,整个torch.nn 包都只支持小批量样本,而不支持单个样本\n",
    "# 例如, nn.Conv2d 将接受一个4维的张量,每一维分别是\n",
    "# (样本数*通道数*高*宽).\n",
    "# 如果你有单个样本,只需使用input.unsqueeze(0) 来添加其它的维数\n",
    "\n",
    "# 回顾\n",
    "# torch.Tensor -支持自动编程操作（如backward() ）的多维数组。同时保持梯度的张量。\n",
    "# nn.Module -神经网络模块.封装参数,移动到GPU上运行,导出,加载等\n",
    "# nn.Parameter -一种张量,当把它赋值给一个Module 时,被自动的注册为参数.\n",
    "# autograd.Function -实现一个自动求导操作的前向和反向定义, 每个张量操作都会创建至\n",
    "# 少一个Function 节点，该节点连接到创建张量并对其历史进行编码的函数。\n"
   ]
  },
  {
   "cell_type": "code",
   "execution_count": 19,
   "metadata": {
    "tags": []
   },
   "outputs": [
    {
     "output_type": "stream",
     "name": "stdout",
     "text": "<MseLossBackward object at 0x00000199496C9390>\n<AddmmBackward object at 0x00000199496AE320>\n<AccumulateGrad object at 0x00000199496AE278>\n"
    }
   ],
   "source": [
    "# 损失函数\n",
    "# 现在,你反向跟踪loss ,使用它的.grad_fn 属性,你会看到向下面这样的一个计算图:\n",
    "# input -> conv2d -> relu -> maxpool2d -> conv2d -> relu -> maxpool2d -> view -> linear -> relu ->\n",
    "# linear -> relu -> linear -> MSELoss -> loss\n",
    "# 所以, 当你调用loss.backward() ,整个图被区分为损失以及图中所有具有requires_grad = Tru\n",
    "# e 的张量，并且其.grad 张量的梯度累积。\n",
    "output = net(input)\n",
    "target = torch.randn(10) # a dummy target, for example\n",
    "target = target.view(1, -1) # make it the same shape as output\n",
    "criterion = nn.MSELoss() #使用MSE损失函数\n",
    "loss = criterion(output, target)\n",
    "print(loss.grad_fn) #MSELoss\n",
    "print(loss.grad_fn.next_functions[0][0])\n",
    "print(loss.grad_fn.next_functions[0][0].next_functions[0][0])"
   ]
  },
  {
   "cell_type": "code",
   "execution_count": 20,
   "metadata": {
    "tags": []
   },
   "outputs": [
    {
     "output_type": "stream",
     "name": "stdout",
     "text": "conv1.bias.grad before backward\ntensor([0., 0., 0., 0., 0., 0.])\nconv1.bias.grad after backward\ntensor([-0.0051, -0.0075, -0.0031,  0.0082, -0.0150,  0.0013])\n"
    }
   ],
   "source": [
    "# 反向传播\n",
    "# 为了反向传播误差,我们所需做的是调用loss.backward() .你需要清除已存在的梯度,否则梯度将\n",
    "# 被累加到已存在的梯度。\n",
    "# 现在,我们将调用loss.backward() ,并查看conv1层的偏置项在反向传播前后的梯度。\n",
    "net.zero_grad() # 清楚已经存在的梯度\n",
    "print('conv1.bias.grad before backward')\n",
    "print(net.conv1.bias.grad)\n",
    "loss.backward()\n",
    "print('conv1.bias.grad after backward')\n",
    "print(net.conv1.bias.grad)\n"
   ]
  },
  {
   "cell_type": "code",
   "execution_count": 22,
   "metadata": {},
   "outputs": [],
   "source": [
    "# 更新权重\n",
    "# 实践中最简单的更新规则是随机梯度下降(SGD)．weight=weight−learning_rate∗gradient\n",
    "learning_rate = 0.01\n",
    "for f in net.parameters():\n",
    "    f.data.sub_(f.grad.data * learning_rate)\n",
    "\n",
    "# 然而,当你使用神经网络是,你想要使用各种不同的更新规则,比如SGD,Nesterov-SGD , Adam , RMS\n",
    "# PROP 等.为了能做到这一点,我们构建了一个包torch.optim 实现了所有的这些规则.使用他们非常简单:\n",
    "import torch.optim as optim\n",
    "\n",
    "optimizer = optim.SGD(net.parameters(), lr=0.01) # create your optimizer\n",
    "\n",
    "# in your training loop:\n",
    "optimizer.zero_grad() # zero the gradient buffers\n",
    "output = net(input)\n",
    "loss = criterion(output, target)\n",
    "loss.backward()\n",
    "optimizer.step() # Doed the update"
   ]
  },
  {
   "cell_type": "code",
   "execution_count": null,
   "metadata": {},
   "outputs": [],
   "source": []
  }
 ],
 "metadata": {
  "language_info": {
   "codemirror_mode": {
    "name": "ipython",
    "version": 3
   },
   "file_extension": ".py",
   "mimetype": "text/x-python",
   "name": "python",
   "nbconvert_exporter": "python",
   "pygments_lexer": "ipython3",
   "version": "3.7.0-final"
  },
  "orig_nbformat": 2,
  "kernelspec": {
   "name": "python3",
   "display_name": "Python 3"
  }
 },
 "nbformat": 4,
 "nbformat_minor": 2
}