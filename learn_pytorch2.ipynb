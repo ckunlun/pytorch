{
 "cells": [
  {
   "cell_type": "code",
   "execution_count": 2,
   "metadata": {},
   "outputs": [],
   "source": [
    "from __future__ import print_function\n",
    "import torch\n",
    "import numpy as np"
   ]
  },
  {
   "cell_type": "code",
   "execution_count": 3,
   "metadata": {},
   "outputs": [],
   "source": [
    "# Autograd：自动求导\n",
    "\n",
    "# autograd 包为张量上的所有操作提供了自动求导.它是一个运行时定义的框架,这意味着反向传播\n",
    "# 是根据你的代码如何运行来定义,并且每次迭代可以不同.# autograd 包为张量上的所有操作提供了自动求导.它是一个运行时定义的框架,这意味着反向传\n",
    "# 播是根据你的代码如何运行来定义,并且每次迭代可以不同."
   ]
  },
  {
   "cell_type": "code",
   "execution_count": 4,
   "metadata": {
    "tags": []
   },
   "outputs": [
    {
     "output_type": "stream",
     "name": "stdout",
     "text": "tensor([[15.2029, 19.6201],\n        [21.3262, 13.6940]], grad_fn=<MulBackward0>)tensor(17.4608, grad_fn=<MeanBackward0>)\nFalse\nTrue\n"
    }
   ],
   "source": [
    "# 张量(Tensor)\n",
    "# torch.Tensor 是包的核心类。如果将其属性.requires_grad 设置为True，则会开始跟踪其上\n",
    "# 的所有操作。完成计算后，您可以调用.backward() 并自动计算所有梯度。此张量的梯度将累\n",
    "# 积到.grad 属性中。\n",
    "# 要阻止张量跟踪历史记录，可以调用.detach() 将其从计算历史记录中分离出来，并防止将来\n",
    "# 的计算被跟踪。\n",
    "# 要防止跟踪历史记录（和使用内存），您还可以使用torch.no_grad()包装代码块：在评估模型\n",
    "# 时，这可能特别有用，因为模型可能具有requires_grad = True 的可训练参数，但我们不需要\n",
    "# 梯度。\n",
    "# 还有一个类对于autograd实现非常重要 - Function。\n",
    "# Tensor和Function互相连接并构建一个非循环图构建一个完整的计算过程。每个张量都有一\n",
    "# 个.grad_fn 属性，该属性引用已创建Tensor的Function（除了用户创建的Tensors - 它们的gr\n",
    "# ad_fn 为None ）。\n",
    "# 如果要计算导数，可以在Tensor上调用.backward() 。如果Tensor是标量（即它包含一个元素\n",
    "# 数据），则不需要为backward() 指定任何参数，但是如果它有更多元素，则需要指定一个梯度\n",
    "# 参数，该参数是匹配形状的张量。\n",
    "\n",
    "# 创建一个张量，并设置requires_grad = True以跟踪它的计算\n",
    "x = torch.rand(2, 2, requires_grad=True)\n",
    "# print(x)\n",
    "y = x + 2\n",
    "# print(y) # 因为y是一个操作创建的，所有他又grad_fn\n",
    "# x是用户创建的，其grad_fn未None\n",
    "z = y * y * 3\n",
    "out = z.mean()\n",
    "print(z, out)\n",
    "\n",
    "# .requires_grad_(...) 就地更改现有的Tensor的requires_grad 标志。如果没有给出，输入\n",
    "# 标志默认为False。\n",
    "a = torch.rand(2, 2)\n",
    "a = ((a * 3) / (a - 1))\n",
    "print(a.requires_grad)\n",
    "a.requires_grad_(True) # 修改require_grad标志\n",
    "print(a.requires_grad)"
   ]
  },
  {
   "cell_type": "code",
   "execution_count": 5,
   "metadata": {
    "tags": []
   },
   "outputs": [
    {
     "output_type": "stream",
     "name": "stdout",
     "text": "tensor([ 1114.2261, -1074.0837,   194.3085], grad_fn=<MulBackward0>)\ntensor([1.0240e+02, 1.0240e+03, 1.0240e-01])\nTrue\nTrue\nFalse\n"
    }
   ],
   "source": [
    "# 梯度（Gradients)\n",
    "# 现在我们来执行反向传播, out.backward() 相当于执行out.backward(torch.tensor(1.))\n",
    "# out.backward()\n",
    "# print(x.grad) # 输出out对x的梯度d(out)/dx;\n",
    "\n",
    "# 雅可比向量积的例子\n",
    "x = torch.randn(3, requires_grad=True)\n",
    "y = x * 2\n",
    "while y.data.norm() < 1000:\n",
    "    y = y * 2\n",
    "print(y)\n",
    "# 现在在这种情况下，y不再是标量。torch.autograd 无法直接计算完整雅可比行列式，但如果\n",
    "# 我们只想要雅可比向量积，只需将向量作为参数向后传递：\n",
    "v = torch.tensor([0.1, 1.0, 0.0001], dtype=torch.float)\n",
    "y.backward(v)\n",
    "print(x.grad)\n",
    "\n",
    "# 您还可以通过torch.no_grad()代码，在张量上使用.requires_grad = True来停止使用跟踪历史记录。\n",
    "print(x.requires_grad)\n",
    "print((x ** 2).requires_grad)\n",
    "\n",
    "with torch.no_grad():\n",
    "    print((x ** 2).requires_grad)"
   ]
  },
  {
   "cell_type": "code",
   "execution_count": null,
   "metadata": {},
   "outputs": [],
   "source": []
  }
 ],
 "metadata": {
  "language_info": {
   "codemirror_mode": {
    "name": "ipython",
    "version": 3
   },
   "file_extension": ".py",
   "mimetype": "text/x-python",
   "name": "python",
   "nbconvert_exporter": "python",
   "pygments_lexer": "ipython3",
   "version": "3.7.0-final"
  },
  "orig_nbformat": 2,
  "kernelspec": {
   "name": "python3",
   "display_name": "Python 3"
  }
 },
 "nbformat": 4,
 "nbformat_minor": 2
}