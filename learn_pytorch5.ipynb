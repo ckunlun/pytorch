{
 "cells": [
  {
   "cell_type": "code",
   "execution_count": 1,
   "metadata": {},
   "outputs": [],
   "source": [
    "# # 数据并行\n",
    "# PyTorch非常容易的就可以使用GPU,你可以用如下方式把一个模型放到GPU上:\n",
    "# device = torch.device(\"cuda:0\")\n",
    "# model.to(device)\n",
    "# 然后你可以复制所有的张量到GPU上:\n",
    "# mytensor = my_tensor.to(device)\n",
    "# 请注意,只调用mytensor.gpu() 并没有复制张量到GPU上。你需要把它赋值给一个新的张量并在\n",
    "# GPU上使用这个张量。\n",
    "# 在多GPU上执行前向和反向传播是自然而然的事。然而，PyTorch默认将只是用一个GPU。你可\n",
    "# 以使用DataParallel 让模型并行运行来轻易的让你的操作在多个GPU上运行。\n",
    "# model = nn.DataParallel(model)"
   ]
  },
  {
   "cell_type": "code",
   "execution_count": 2,
   "metadata": {},
   "outputs": [],
   "source": [
    "# 导入PyTorch模块和定义参数。\n",
    "import torch\n",
    "import torch.nn as nn\n",
    "from torch.utils.data import Dataset, DataLoader\n",
    "# Parameters and DataLoaders\n",
    "input_size = 5\n",
    "output_size = 2\n",
    "batch_size = 30\n",
    "data_size = 100\n",
    "\n",
    "device = torch.device(\"cuda:0\" if torch.cuda.is_available() else \"cpu\")"
   ]
  },
  {
   "cell_type": "code",
   "execution_count": 3,
   "metadata": {},
   "outputs": [],
   "source": [
    "# 虚拟数据集\n",
    "# 制作一个虚拟（随机）数据集，你只需实现__getitem__ 。\n",
    "class RandomDataset(Dataset):\n",
    "    def __init__(self, size, length):\n",
    "        self.len = length\n",
    "        self.data = torch.randn(length, size)\n",
    "    \n",
    "    def __getitem__(self, index):\n",
    "        return self.data[index]\n",
    "\n",
    "    def __len__(self):\n",
    "        return self.len\n",
    "\n",
    "rand_loader = DataLoader(dataset=RandomDataset(input_size, data_size),\n",
    "    batch_size=batch_size, shuffle=True)"
   ]
  },
  {
   "cell_type": "code",
   "execution_count": 4,
   "metadata": {},
   "outputs": [],
   "source": [
    "# 简单模型\n",
    "# 作为演示，我们的模型只接受一个输入，执行一个线性操作，然后得到结果。然而，你能在任\n",
    "# 何模型（CNN，RNN，Capsule Net等）上使用DataParallel 。\n",
    "class Model(nn.Module):\n",
    "# Our model\n",
    "    def __init__(self, input_size, output_size):\n",
    "        super(Model, self).__init__()\n",
    "        self.fc = nn.Linear(input_size, output_size)\n",
    "    \n",
    "    def forward(self, input):\n",
    "        output = self.fc(input)\n",
    "        print(\"\\tIn Model: input size\", input.size(),\n",
    "        \"output size\", output.size())\n",
    "        return output"
   ]
  },
  {
   "cell_type": "code",
   "execution_count": 5,
   "metadata": {},
   "outputs": [
    {
     "output_type": "execute_result",
     "data": {
      "text/plain": "Model(\n  (fc): Linear(in_features=5, out_features=2, bias=True)\n)"
     },
     "metadata": {},
     "execution_count": 5
    }
   ],
   "source": [
    "# 创建一个模型和数据并行\n",
    "# 这是本教程的核心部分。首先，我们需要创建一个模型实例和检测我们是否有多个GPU。如果\n",
    "# 我们有多个GPU，我们使用nn.DataParallel 来包装我们的模型。然后通过model.to(device)\n",
    "# 把模型放到GPU上。\n",
    "model = Model(input_size, output_size)\n",
    "if torch.cuda.device_count() > 1:\n",
    "    print(\"Let's use\", torch.cuda.device_count(), \"GPUs!\")\n",
    "    # dim = 0 [30, xxx] -> [10, ...], [10, ...], [10, ...] on 3 GPUs\n",
    "    model = nn.DataParallel(model)\n",
    "model.to(device)"
   ]
  },
  {
   "cell_type": "code",
   "execution_count": null,
   "metadata": {},
   "outputs": [],
   "source": [
    "# 运行模型\n",
    "for data in rand_loader:\n",
    "    input = data.to(device) # 数据转移到gpu上\n",
    "    output = model(input)\n",
    "    print(\"Outside: input size\", input.size(),\n",
    "    \"output_size\", output.size())\n",
    "# DataParallel 自动的划分数据，并将作业发送到多个GPU上的多个模型。在每个模型完成作业\n",
    "# 后， DataParallel 收集并合并结果返回给你。"
   ]
  }
 ],
 "metadata": {
  "language_info": {
   "codemirror_mode": {
    "name": "ipython",
    "version": 3
   },
   "file_extension": ".py",
   "mimetype": "text/x-python",
   "name": "python",
   "nbconvert_exporter": "python",
   "pygments_lexer": "ipython3",
   "version": "3.7.0-final"
  },
  "orig_nbformat": 2,
  "kernelspec": {
   "name": "python3",
   "display_name": "Python 3"
  }
 },
 "nbformat": 4,
 "nbformat_minor": 2
}