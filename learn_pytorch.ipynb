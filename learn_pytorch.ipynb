{
 "cells": [
  {
   "cell_type": "code",
   "execution_count": 1,
   "metadata": {},
   "outputs": [],
   "source": [
    "from __future__ import print_function\n",
    "import torch"
   ]
  },
  {
   "cell_type": "code",
   "execution_count": 7,
   "metadata": {
    "tags": []
   },
   "outputs": [
    {
     "output_type": "stream",
     "name": "stdout",
     "text": "torch.Size([2])\n"
    }
   ],
   "source": [
    "# 创建张量\n",
    "# 初始化一个5*3的矩阵\n",
    "x = torch.Tensor(5, 3)\n",
    "\n",
    "# 构建一个零矩阵，使用long的类型\n",
    "x = torch.zeros(5,3, dtype=torch.long)\n",
    "\n",
    "# 从数据中直接构建一个张量\n",
    "x = torch.tensor([5.5, 3])\n",
    "\n",
    "# 从已有张量构建一个张量, 如果不指定属性，则会和原有张量保持一致\n",
    "x = torch.randn_like(x, dtype=torch.double)\n",
    "\n",
    "# 获取张量的大小\n",
    "x = x.size() # 返回值是一个元组，支持元组的所有操作\n",
    "print(x)"
   ]
  },
  {
   "cell_type": "code",
   "execution_count": null,
   "metadata": {},
   "outputs": [],
   "source": []
  }
 ],
 "metadata": {
  "language_info": {
   "codemirror_mode": {
    "name": "ipython",
    "version": 3
   },
   "file_extension": ".py",
   "mimetype": "text/x-python",
   "name": "python",
   "nbconvert_exporter": "python",
   "pygments_lexer": "ipython3",
   "version": "3.7.0-final"
  },
  "orig_nbformat": 2,
  "kernelspec": {
   "name": "python3",
   "display_name": "Python 3"
  }
 },
 "nbformat": 4,
 "nbformat_minor": 2
}